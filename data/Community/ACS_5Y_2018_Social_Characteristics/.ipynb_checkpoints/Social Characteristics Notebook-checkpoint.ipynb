{
 "cells": [
  {
   "cell_type": "markdown",
   "metadata": {},
   "source": [
    "Different house/Same house/... refers to RESIDENCE 1 YEAR AGO!!Population 1 year and over!!Same house"
   ]
  },
  {
   "cell_type": "markdown",
   "metadata": {},
   "source": [
    "DISABILITY STATUS OF THE CIVILIAN NONINSTITUTIONALIZED POPULATION!!65 years and over!!With a disability"
   ]
  },
  {
   "cell_type": "markdown",
   "metadata": {},
   "source": [
    "pob = place of birth"
   ]
  },
  {
   "cell_type": "markdown",
   "metadata": {},
   "source": [
    "home none of above - out of all families that don't speak english at home, percent of houses that don't speak any of the above languages listed like Asian, European, etc."
   ]
  },
  {
   "cell_type": "code",
   "execution_count": null,
   "metadata": {},
   "outputs": [],
   "source": []
  }
 ],
 "metadata": {
  "kernelspec": {
   "display_name": "Python 3",
   "language": "python",
   "name": "python3"
  },
  "language_info": {
   "codemirror_mode": {
    "name": "ipython",
    "version": 3
   },
   "file_extension": ".py",
   "mimetype": "text/x-python",
   "name": "python",
   "nbconvert_exporter": "python",
   "pygments_lexer": "ipython3",
   "version": "3.7.3"
  }
 },
 "nbformat": 4,
 "nbformat_minor": 2
}
